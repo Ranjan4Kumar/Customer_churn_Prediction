{
  "nbformat": 4,
  "nbformat_minor": 0,
  "metadata": {
    "colab": {
      "provenance": [],
      "authorship_tag": "ABX9TyMDOiBeNXsCyMzOUKxgunCn",
      "include_colab_link": true
    },
    "kernelspec": {
      "name": "python3",
      "display_name": "Python 3"
    },
    "language_info": {
      "name": "python"
    }
  },
  "cells": [
    {
      "cell_type": "markdown",
      "metadata": {
        "id": "view-in-github",
        "colab_type": "text"
      },
      "source": [
        "<a href=\"https://colab.research.google.com/github/Ranjan4Kumar/Customer_curn_Prediction/blob/main/Customer_Churn_Prediction.ipynb\" target=\"_parent\"><img src=\"https://colab.research.google.com/assets/colab-badge.svg\" alt=\"Open In Colab\"/></a>"
      ]
    },
    {
      "cell_type": "markdown",
      "source": [
        "-  Churn rate is a critical metric of customer statisfaction. <b>Low churn rates means happy customers: High churn rate means customer are leaving you.</b> A small rate of monthly / quartely churn compounds over time. 1% monthly churn quickly translate to almost 12% yearly churn.\n",
        "\n",
        "- According to Forbes : it takes 5 times more money to get new customer than to keep the ones you already have. Churn tells us how many existing customers are leaving your business, so lowering churn has a big positive impact on your revenue streams.\n",
        "\n",
        "- Churn is a good indicator of growth potential. Churn rates track lost customer, and growth rates track new customers-comparing and analysing both of these metrics tells you exactly how much your business is growing over time . If the growth is higher than churn , you can say your business is growing. If churn is higher then growth is reducing.\n",
        "\n",
        "- Churn rate : - It ia related to the business case of customer stop buying from you.\n",
        "\n",
        "- Analysing growth in this space might involve tracking metric(like revenues, new customers ratio etc).\n",
        "\n",
        "The churn rate is an is an input of customer in given time period value modeling that guides the estimation of net profit contribute to the whole future relationship with a customer.\n",
        "Independently, it calculates the % of discontinuity in subscriotion by customers of a service or product within a given time frame.\n",
        "\n",
        "- Studying the churn rate can help with Knowing-your-customer(KYC) and effective retention and marketing strategies for (Our business is subcription based thats why Churn rate plays a vital role in expanding our bussiness)\n",
        "\n",
        "<br>\n",
        "<b>  We can classify Churn as : </b> <br>\n",
        "\n",
        "- 1. <b> Custoner and Revenue Churn </b>\n",
        "- 2. <b> Voluntary and Involuntary Churn </b>\n",
        "\n",
        "<b>  Customer and revenue churn </b>:\n",
        "\n",
        "Customer churn is simply the rate at which customer cancel their subscriptions.\n",
        "\n",
        "Also known as subscriber churn or log churn, its value is represented in percentages. On the other hand, revenue churn is the loss in your monthly recurring revenue <b> (MRR) </b> at the begining of the month. <br>\n",
        "\n",
        "Customer churn and revenue churn aren't always same. you might have no customer churn but still have revenue churn if the customer are downgrading subscription. <br>\n",
        "Negative churn is an ideal situation that only applies to revenue churn. The amount of new revenue from your existing cutomers (through cross-sells, upsells and new signups) is more than the revenue you lose from cancellation and downgrades.\n",
        "\n",
        "<br>\n",
        "<b> Churn rate = <br>\n",
        "Number of cutomers lost during a time frame<br>\n",
        "------------------------------------------------------------ <br>\n",
        "Number of customer at the begining of the time frame </b> <br>\n",
        "\n",
        "XXXXXXXXXXXXXXXXXXXXXXXXXXXXXXXXXXXXXXXXXXXXXXXXXXXXXXXXXXXXXXXXXX<br>\n",
        "\n",
        "<b> Revenue Rate = <br>\n",
        "\n",
        "MRR at the begning of the month - MRR at the end of the month - any upgrades <br> ------------------------------------------------------------------------------<br>\n",
        "MRR at the begning of the month<br><br>\n",
        "\n",
        "\n",
        "<b> Voluntary and Involuntary Churn </b>:\n",
        "\n",
        "<br>\n",
        "Voluntary churn is when the customer decides to cancel and takes the necessary steps to exit the service. It could be caused by dissatisfaction, or not receiving the value they expected. involuntary churn happesn due to situation such as expired payment details, server errors, insufficient funds, and other unpredictable predicaments.\n",
        "\n",
        "\n",
        "\n",
        "\n"
      ],
      "metadata": {
        "id": "l46XsStEd4YK"
      }
    },
    {
      "cell_type": "code",
      "execution_count": null,
      "metadata": {
        "id": "nFbQQRCHdy__"
      },
      "outputs": [],
      "source": []
    }
  ]
}
{
  "nbformat": 4,
  "nbformat_minor": 0,
  "metadata": {
    "colab": {
      "provenance": [],
      "authorship_tag": "ABX9TyO5lObuCSRynU/g3FMHtRzk",
      "include_colab_link": true
    },
    "kernelspec": {
      "name": "python3",
      "display_name": "Python 3"
    },
    "language_info": {
      "name": "python"
    }
  },
  "cells": [
    {
      "cell_type": "markdown",
      "metadata": {
        "id": "view-in-github",
        "colab_type": "text"
      },
      "source": [
        "<a href=\"https://colab.research.google.com/github/Ranjan4Kumar/Customer_churn_Prediction/blob/main/Customer_Churn_Prediction.ipynb\" target=\"_parent\"><img src=\"https://colab.research.google.com/assets/colab-badge.svg\" alt=\"Open In Colab\"/></a>"
      ]
    },
    {
      "cell_type": "markdown",
      "source": [
        "-  Churn rate is a critical metric of customer statisfaction. <b>Low churn rates means happy customers: High churn rate means customer are leaving you.</b> A small rate of monthly / quartely churn compounds over time. 1% monthly churn quickly translate to almost 12% yearly churn.\n",
        "\n",
        "- According to Forbes : it takes 5 times more money to get new customer than to keep the ones you already have. Churn tells us how many existing customers are leaving your business, so lowering churn has a big positive impact on your revenue streams.\n",
        "\n",
        "- Churn is a good indicator of growth potential. Churn rates track lost customer, and growth rates track new customers-comparing and analysing both of these metrics tells you exactly how much your business is growing over time . If the growth is higher than churn , you can say your business is growing. If churn is higher then growth is reducing.\n",
        "\n",
        "- Churn rate : - It ia related to the business case of customer stop buying from you.\n",
        "\n",
        "- Analysing growth in this space might involve tracking metric(like revenues, new customers ratio etc).\n",
        "\n",
        "The churn rate is an is an input of customer in given time period value modeling that guides the estimation of net profit contribute to the whole future relationship with a customer.\n",
        "Independently, it calculates the % of discontinuity in subscriotion by customers of a service or product within a given time frame.\n",
        "\n",
        "- Studying the churn rate can help with Knowing-your-customer(KYC) and effective retention and marketing strategies for (Our business is subcription based thats why Churn rate plays a vital role in expanding our bussiness)\n",
        "\n",
        "<br>\n",
        "<b>  We can classify Churn as : </b> <br>\n",
        "\n",
        "- 1. <b> Custoner and Revenue Churn </b>\n",
        "- 2. <b> Voluntary and Involuntary Churn </b>\n",
        "\n",
        "<b>  Customer and revenue churn </b>:\n",
        "\n",
        "Customer churn is simply the rate at which customer cancel their subscriptions.\n",
        "\n",
        "Also known as subscriber churn or log churn, its value is represented in percentages. On the other hand, revenue churn is the loss in your monthly recurring revenue <b> (MRR) </b> at the begining of the month. <br>\n",
        "\n",
        "Customer churn and revenue churn aren't always same. you might have no customer churn but still have revenue churn if the customer are downgrading subscription. <br>\n",
        "Negative churn is an ideal situation that only applies to revenue churn. The amount of new revenue from your existing cutomers (through cross-sells, upsells and new signups) is more than the revenue you lose from cancellation and downgrades.\n",
        "\n",
        "<br>\n",
        "<b> Churn rate = <br>\n",
        "Number of cutomers lost during a time frame<br>\n",
        "------------------------------------------------------------ <br>\n",
        "Number of customer at the begining of the time frame </b> <br>\n",
        "\n",
        "XXXXXXXXXXXXXXXXXXXXXXXXXXXXXXXXXXXXXXXXXXXXXXXXXXXXXXXXXXXXXXXXXX<br>\n",
        "\n",
        "<b> Revenue Rate = </b> <br>\n",
        "\n",
        "MRR at the begning of the month - MRR at the end of the month - any upgrades <br> ------------------------------------------------------------------------------<br>\n",
        "MRR at the begning of the month<br><br>\n",
        "\n",
        "\n",
        "<b> Voluntary and Involuntary Churn </b>:\n",
        "\n",
        "<br>\n",
        "Voluntary churn is when the customer decides to cancel and takes the necessary steps to exit the service. It could be caused by dissatisfaction, or not receiving the value they expected. involuntary churn happesn due to situation such as expired payment details, server errors, insufficient funds, and other unpredictable predicaments.\n",
        "\n",
        "\n",
        "Customer satifaction, happiness and loyalty can be achieved to a certain degree, but churn will always be a part of the business. Churn can happen because of: <br>\n",
        "\n",
        "- Bad customer service (poor service quality, response rate, or overall customer experience),\n",
        "- Finance issue (fees and rates)\n",
        "- Customer needs change.\n",
        "- Dissatisfaction (your service failed to meet expectation).\n",
        "- Customer don't see the value.\n",
        "- Customer switch to competitors.\n",
        "- Long-time customers don't feel appreciated.\n",
        "\n",
        "<b>NOTE :  0% churn rate is impossible.Trick to keep the churn rate as minimum as possible at all time </b>\n",
        "\n",
        "\n",
        "\n",
        "### <b> Importance of Customer Churn Prediction.</b>\n",
        "\n",
        "The impact of the churn rate is clear, so we need strategies to reduce it.\n",
        "Predicting churn is a good way to create proactive marketing campaigns targeted at the customer that are about to churn.\n",
        "\n",
        "- Big data, forecasting customer churn with the help of machine learning is possible. Machine learning and data analysis are powerful ways to identify and predict churn.\n",
        "\n",
        "- During Churn prediction, we also get\n",
        "- Identifying at-risk customers,\n",
        "- Identifying customer pain point,\n",
        "- Identifying strategy/methods to lower churn and increase customer retention.\n",
        "\n",
        "### <b> Challenges of building an effective churn model</b>\n",
        "- Inaccurate and messy customer data,\n",
        "- Weak attrition exploratory analysis,\n",
        "- Lack of information and domain knowledge,\n",
        "- Lack of coherent selection of a suitable churn modeling approach.\n",
        "- Choice of metrics to validate churn model performance.\n",
        "- Line of Business (LoB) of service or product,\n",
        "- Churn event censorship,\n",
        "- Concept drift based on changes in customers behaviour pattern driving churn,\n",
        "- <b> Imbalance data (Class imbalance issue).</b>\n",
        "\n",
        "\n",
        "<link> https://neptune.ai/blog/how-to-implement-customer-churn-prediction </link>\n"
      ],
      "metadata": {
        "id": "l46XsStEd4YK"
      }
    },
    {
      "cell_type": "code",
      "execution_count": null,
      "metadata": {
        "id": "nFbQQRCHdy__"
      },
      "outputs": [],
      "source": []
    }
  ]
}